{
 "cells": [
  {
   "cell_type": "markdown",
   "id": "d4418ec7",
   "metadata": {},
   "source": [
    "You own a gym 💪🏾 for pregnant women 🤰🏾 called “OB-GYM” and you recently opened a second location. You’d like to analyze its performance, but your reporting software has given you the sales data in an awkward format.\n"
   ]
  },
  {
   "cell_type": "code",
   "execution_count": 78,
   "id": "09884f3a",
   "metadata": {},
   "outputs": [
    {
     "name": "stdout",
     "output_type": "stream",
     "text": [
      "        date  store_id  sales1  sales2  members\n",
      "0 2020-01-01         1  737.54     NaN       22\n",
      "1 2020-01-01         2     NaN  629.00       20\n",
      "2 2020-01-02         1  750.75     NaN       23\n",
      "3 2020-01-02         2     NaN  699.01       22\n",
      "4 2020-01-03         1  750.60     NaN       20\n",
      "5 2020-01-03         2     NaN  640.20       24\n",
      "6 2020-01-04         1  752.65     NaN       21\n",
      "7 2020-01-04         2     NaN  695.64       22\n",
      "8 2020-01-05         1  747.02     NaN       20\n",
      "9 2020-01-05         2     NaN  632.40       22\n"
     ]
    }
   ],
   "source": [
    "import numpy as np\n",
    "import pandas as pd\n",
    "\n",
    "generator = np.random.default_rng(314)\n",
    "\n",
    "sales = pd.DataFrame({\n",
    "    'date':pd.date_range(start = '2020-01-01', periods=5).repeat(2),\n",
    "    'store_id':np.tile([1,2], 5),\n",
    "    'sales1':np.round(generator.normal(loc=750, scale=20, size=10), 2),\n",
    "    'sales2':np.round(generator.normal(loc=650, scale=40, size=10), 2),\n",
    "    'members':generator.integers(low=20, high=25, size=10)\n",
    "})\n",
    "sales.loc[sales.store_id == 2, 'sales1'] = np.nan\n",
    "sales.loc[sales.store_id == 1, 'sales2'] = np.nan\n",
    "\n",
    "print(sales)\n"
   ]
  },
  {
   "cell_type": "markdown",
   "id": "e181f312",
   "metadata": {},
   "source": [
    "Reshape it into a DataFrame like this\n",
    "\n",
    "#                    sales_1  sales_2  members_1  members_2\n",
    "# date\n",
    "# 2020-01-01    737.54    629.00         22         20\n",
    "# 2020-01-02    750.75    699.01         23         22\n",
    "# 2020-01-03    750.60    640.20         20         24\n",
    "# 2020-01-04    752.65    695.64         21         22\n",
    "# 2020-01-05    747.02    632.40         20         22"
   ]
  },
  {
   "cell_type": "code",
   "execution_count": 79,
   "id": "682d02b1",
   "metadata": {},
   "outputs": [
    {
     "data": {
      "text/html": [
       "<div>\n",
       "<style scoped>\n",
       "    .dataframe tbody tr th:only-of-type {\n",
       "        vertical-align: middle;\n",
       "    }\n",
       "\n",
       "    .dataframe tbody tr th {\n",
       "        vertical-align: top;\n",
       "    }\n",
       "\n",
       "    .dataframe thead th {\n",
       "        text-align: right;\n",
       "    }\n",
       "</style>\n",
       "<table border=\"1\" class=\"dataframe\">\n",
       "  <thead>\n",
       "    <tr style=\"text-align: right;\">\n",
       "      <th></th>\n",
       "      <th>date</th>\n",
       "      <th>sales1</th>\n",
       "    </tr>\n",
       "  </thead>\n",
       "  <tbody>\n",
       "    <tr>\n",
       "      <th>0</th>\n",
       "      <td>2020-01-01</td>\n",
       "      <td>737.54</td>\n",
       "    </tr>\n",
       "    <tr>\n",
       "      <th>2</th>\n",
       "      <td>2020-01-02</td>\n",
       "      <td>750.75</td>\n",
       "    </tr>\n",
       "    <tr>\n",
       "      <th>4</th>\n",
       "      <td>2020-01-03</td>\n",
       "      <td>750.60</td>\n",
       "    </tr>\n",
       "    <tr>\n",
       "      <th>6</th>\n",
       "      <td>2020-01-04</td>\n",
       "      <td>752.65</td>\n",
       "    </tr>\n",
       "    <tr>\n",
       "      <th>8</th>\n",
       "      <td>2020-01-05</td>\n",
       "      <td>747.02</td>\n",
       "    </tr>\n",
       "  </tbody>\n",
       "</table>\n",
       "</div>"
      ],
      "text/plain": [
       "        date  sales1\n",
       "0 2020-01-01  737.54\n",
       "2 2020-01-02  750.75\n",
       "4 2020-01-03  750.60\n",
       "6 2020-01-04  752.65\n",
       "8 2020-01-05  747.02"
      ]
     },
     "execution_count": 79,
     "metadata": {},
     "output_type": "execute_result"
    }
   ],
   "source": [
    "temp1 = sales.groupby(['date','store_id'])['members'].agg(['sum'])\n",
    "temp2 = sales[['date','sales1']].dropna()\n",
    "temp3 = sales[['date','sales2']].dropna()\n",
    "temp2\n"
   ]
  },
  {
   "cell_type": "code",
   "execution_count": 82,
   "id": "e56d3c4d",
   "metadata": {},
   "outputs": [
    {
     "data": {
      "text/plain": [
       "1   2020-01-01\n",
       "3   2020-01-02\n",
       "5   2020-01-03\n",
       "7   2020-01-04\n",
       "9   2020-01-05\n",
       "Name: date, dtype: datetime64[ns]"
      ]
     },
     "execution_count": 82,
     "metadata": {},
     "output_type": "execute_result"
    }
   ],
   "source": [
    "temp3['date']"
   ]
  },
  {
   "cell_type": "code",
   "execution_count": 83,
   "id": "1e6aef4d",
   "metadata": {},
   "outputs": [
    {
     "data": {
      "text/html": [
       "<div>\n",
       "<style scoped>\n",
       "    .dataframe tbody tr th:only-of-type {\n",
       "        vertical-align: middle;\n",
       "    }\n",
       "\n",
       "    .dataframe tbody tr th {\n",
       "        vertical-align: top;\n",
       "    }\n",
       "\n",
       "    .dataframe thead th {\n",
       "        text-align: right;\n",
       "    }\n",
       "</style>\n",
       "<table border=\"1\" class=\"dataframe\">\n",
       "  <thead>\n",
       "    <tr style=\"text-align: right;\">\n",
       "      <th></th>\n",
       "      <th>sales_1</th>\n",
       "      <th>sales_2</th>\n",
       "      <th>members_1</th>\n",
       "      <th>members_2</th>\n",
       "    </tr>\n",
       "    <tr>\n",
       "      <th>date</th>\n",
       "      <th></th>\n",
       "      <th></th>\n",
       "      <th></th>\n",
       "      <th></th>\n",
       "    </tr>\n",
       "  </thead>\n",
       "  <tbody>\n",
       "    <tr>\n",
       "      <th>2020-01-01</th>\n",
       "      <td>737.54</td>\n",
       "      <td>629.00</td>\n",
       "      <td>22</td>\n",
       "      <td>20</td>\n",
       "    </tr>\n",
       "    <tr>\n",
       "      <th>2020-01-02</th>\n",
       "      <td>750.75</td>\n",
       "      <td>699.01</td>\n",
       "      <td>23</td>\n",
       "      <td>22</td>\n",
       "    </tr>\n",
       "    <tr>\n",
       "      <th>2020-01-03</th>\n",
       "      <td>750.60</td>\n",
       "      <td>640.20</td>\n",
       "      <td>20</td>\n",
       "      <td>24</td>\n",
       "    </tr>\n",
       "    <tr>\n",
       "      <th>2020-01-04</th>\n",
       "      <td>752.65</td>\n",
       "      <td>695.64</td>\n",
       "      <td>21</td>\n",
       "      <td>22</td>\n",
       "    </tr>\n",
       "    <tr>\n",
       "      <th>2020-01-05</th>\n",
       "      <td>747.02</td>\n",
       "      <td>632.40</td>\n",
       "      <td>20</td>\n",
       "      <td>22</td>\n",
       "    </tr>\n",
       "  </tbody>\n",
       "</table>\n",
       "</div>"
      ],
      "text/plain": [
       "            sales_1  sales_2  members_1  members_2\n",
       "date                                              \n",
       "2020-01-01   737.54   629.00         22         20\n",
       "2020-01-02   750.75   699.01         23         22\n",
       "2020-01-03   750.60   640.20         20         24\n",
       "2020-01-04   752.65   695.64         21         22\n",
       "2020-01-05   747.02   632.40         20         22"
      ]
     },
     "execution_count": 83,
     "metadata": {},
     "output_type": "execute_result"
    }
   ],
   "source": [
    "result = pd.DataFrame(\n",
    "{'sales_1':temp2['sales1'].values.reshape(len(temp2)),\n",
    " 'sales_2':temp3['sales2'].values.reshape(len(temp3)),\n",
    " 'members_1': temp1.values.reshape(len(temp1))[::2],\n",
    " 'members_2': temp1.values.reshape(len(temp1))[1::2]\n",
    "}, index = temp3['date']\n",
    ")\n",
    "result"
   ]
  },
  {
   "cell_type": "code",
   "execution_count": null,
   "id": "1f85f643",
   "metadata": {},
   "outputs": [],
   "source": []
  }
 ],
 "metadata": {
  "kernelspec": {
   "display_name": "Python 3 (ipykernel)",
   "language": "python",
   "name": "python3"
  },
  "language_info": {
   "codemirror_mode": {
    "name": "ipython",
    "version": 3
   },
   "file_extension": ".py",
   "mimetype": "text/x-python",
   "name": "python",
   "nbconvert_exporter": "python",
   "pygments_lexer": "ipython3",
   "version": "3.9.12"
  }
 },
 "nbformat": 4,
 "nbformat_minor": 5
}
